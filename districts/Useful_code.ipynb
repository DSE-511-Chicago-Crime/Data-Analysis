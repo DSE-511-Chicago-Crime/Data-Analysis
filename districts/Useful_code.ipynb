{
 "cells": [
  {
   "cell_type": "code",
   "execution_count": null,
   "id": "f398f4db",
   "metadata": {},
   "outputs": [],
   "source": [
    "# ways to make grouby\n",
    "\n",
    "df = pd.DataFrame({\n",
    "    'user_id':['a','a','b','c','d','e','a'],\n",
    "    'content_id':[1,2,2,2,2,10,9],\n",
    "    'arrest':[True,False,True,True,True,True,False],\n",
    "    'tag':['cool','nice','clever','clever','cool','cool','cool']\n",
    "})\n",
    "print(df)\n",
    "print()\n",
    "print(df.groupby(['tag'])['user_id'].count())\n",
    "print()\n",
    "print(df.groupby(['tag','user_id'])['user_id'].count())\n",
    "print()\n",
    "print(df.groupby(['tag','user_id'])['user_id'].count().max())\n",
    "\n",
    "#print(df.groupby('primary_type')['primary_type'].count())\n",
    "\n",
    "df.arrest.value_counts()"
   ]
  },
  {
   "cell_type": "code",
   "execution_count": null,
   "id": "631a81b3",
   "metadata": {},
   "outputs": [],
   "source": [
    "import numpy as np\n",
    "import matplotlib.pyplot as plt\n",
    "\n",
    "data = np.genfromtxt(\"data.csv\", delimiter=\",\")\n",
    "plt.imshow(data, cmap='hot', interpolation='nearest')\n",
    "plt.show()"
   ]
  }
 ],
 "metadata": {
  "kernelspec": {
   "display_name": "Python 3",
   "language": "python",
   "name": "python3"
  },
  "language_info": {
   "codemirror_mode": {
    "name": "ipython",
    "version": 3
   },
   "file_extension": ".py",
   "mimetype": "text/x-python",
   "name": "python",
   "nbconvert_exporter": "python",
   "pygments_lexer": "ipython3",
   "version": "3.9.6"
  }
 },
 "nbformat": 4,
 "nbformat_minor": 5
}
