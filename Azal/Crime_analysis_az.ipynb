{
 "cells": [
  {
   "cell_type": "code",
   "execution_count": 1,
   "id": "6775aa72",
   "metadata": {},
   "outputs": [
    {
     "name": "stdout",
     "output_type": "stream",
     "text": [
      "import libraries Pandas  and numpy\n"
     ]
    }
   ],
   "source": [
    "print('import libraries Pandas  and numpy')\n",
    "\n",
    "import pandas as pd\n",
    "import numpy as np\n",
    "import matplotlib.pyplot as pl"
   ]
  },
  {
   "cell_type": "code",
   "execution_count": 2,
   "id": "79743064",
   "metadata": {},
   "outputs": [
    {
     "name": "stdout",
     "output_type": "stream",
     "text": [
      "download datframes for Chicago crimes as csv files  for 2019, 2020 and 2021 years\n"
     ]
    }
   ],
   "source": [
    "#Read csv file for \n",
    "print('download datframes for Chicago crimes as csv files  for 2019, 2020 and 2021 years')\n",
    "dat_2019 = pd.read_csv(\"../data/2019_crime.csv\") \n",
    "dat_2020 = pd.read_csv(\"../data/2020_crime.csv\")\n",
    "dat_2021 = pd.read_csv(\"../data/2021_crime.csv\")"
   ]
  },
  {
   "cell_type": "code",
   "execution_count": 3,
   "id": "3953153a",
   "metadata": {},
   "outputs": [
    {
     "name": "stdout",
     "output_type": "stream",
     "text": [
      "building function to find out the unique district and  primary_type of crimes\n",
      "[ 5  4  2  8 25 17 16  9 22  6  1 31 24 20 19 18 14  3  7 11 12 15 10]\n",
      "the unique district and primary_type for 2019\n",
      "['ASSAULT' 'BATTERY' 'CRIMINAL DAMAGE' 'OFFENSE INVOLVING CHILDREN'\n",
      " 'CRIM SEXUAL ASSAULT' 'BURGLARY' 'THEFT' 'WEAPONS VIOLATION'\n",
      " 'OTHER OFFENSE' 'CRIMINAL TRESPASS' 'INTERFERENCE WITH PUBLIC OFFICER'\n",
      " 'NARCOTICS' 'SEX OFFENSE' 'DECEPTIVE PRACTICE' 'PUBLIC PEACE VIOLATION'\n",
      " 'ROBBERY' 'MOTOR VEHICLE THEFT' 'KIDNAPPING' 'ARSON' 'OBSCENITY'\n",
      " 'STALKING' 'CONCEALED CARRY LICENSE VIOLATION' 'CRIMINAL SEXUAL ASSAULT'\n",
      " 'LIQUOR LAW VIOLATION' 'PROSTITUTION' 'HOMICIDE' 'GAMBLING'\n",
      " 'INTIMIDATION' 'HUMAN TRAFFICKING' 'PUBLIC INDECENCY' 'NON-CRIMINAL'\n",
      " 'OTHER NARCOTIC VIOLATION']\n",
      "the unique district and primary_type for 2019\n",
      "the unique district and primary_type for 2020\n",
      "[ 8  4 22  9 16  2 25  5 17  6  1 24 20 19 18 14 11 12 15 10  3  7 31]\n",
      "the unique district and primary_type for 2019\n",
      "['DECEPTIVE PRACTICE' 'OFFENSE INVOLVING CHILDREN' 'OTHER OFFENSE'\n",
      " 'CRIMINAL TRESPASS' 'MOTOR VEHICLE THEFT' 'ASSAULT'\n",
      " 'PUBLIC PEACE VIOLATION' 'ROBBERY' 'BATTERY' 'WEAPONS VIOLATION'\n",
      " 'CRIMINAL DAMAGE' 'NARCOTICS' 'CRIMINAL SEXUAL ASSAULT' 'BURGLARY'\n",
      " 'ARSON' 'KIDNAPPING' 'HUMAN TRAFFICKING' 'SEX OFFENSE'\n",
      " 'CONCEALED CARRY LICENSE VIOLATION' 'INTERFERENCE WITH PUBLIC OFFICER'\n",
      " 'STALKING' 'THEFT' 'CRIM SEXUAL ASSAULT' 'HOMICIDE'\n",
      " 'LIQUOR LAW VIOLATION' 'INTIMIDATION' 'PROSTITUTION' 'OBSCENITY'\n",
      " 'OTHER NARCOTIC VIOLATION' 'PUBLIC INDECENCY' 'GAMBLING' 'RITUALISM'\n",
      " 'NON-CRIMINAL']\n",
      "the unique district and primary_type for 2019\n",
      "the unique district and primary_type for 2021\n",
      "[16 22  9 25  8  4  2  5 17  1 24 20 19 18 14  6 12 11 15 10  3  7 31]\n",
      "the unique district and primary_type for 2019\n",
      "['DECEPTIVE PRACTICE' 'ROBBERY' 'CRIMINAL TRESPASS' 'OBSCENITY' 'BATTERY'\n",
      " 'LIQUOR LAW VIOLATION' 'CRIMINAL SEXUAL ASSAULT' 'ASSAULT'\n",
      " 'OFFENSE INVOLVING CHILDREN' 'ARSON' 'OTHER OFFENSE' 'BURGLARY'\n",
      " 'CRIMINAL DAMAGE' 'WEAPONS VIOLATION' 'PUBLIC PEACE VIOLATION'\n",
      " 'NARCOTICS' 'THEFT' 'MOTOR VEHICLE THEFT'\n",
      " 'CONCEALED CARRY LICENSE VIOLATION' 'SEX OFFENSE' 'STALKING' 'HOMICIDE'\n",
      " 'INTERFERENCE WITH PUBLIC OFFICER' 'INTIMIDATION' 'KIDNAPPING'\n",
      " 'PROSTITUTION' 'OTHER NARCOTIC VIOLATION' 'GAMBLING' 'HUMAN TRAFFICKING'\n",
      " 'PUBLIC INDECENCY' 'NON-CRIMINAL']\n",
      "the unique district and primary_type for 2019\n"
     ]
    }
   ],
   "source": [
    "# build function to get the unique of primary_type and district\n",
    "print('building function to find out the unique district and  primary_type of crimes')\n",
    "\n",
    "def uniq_data (df_dat): \n",
    "    uniqu_dat= df_dat.unique()\n",
    "    print( uniqu_dat)    \n",
    "\n",
    "    print('the unique district and primary_type for 2019')\n",
    "uniq_data (dat_2019['district']) \n",
    "uniq_data (dat_2019['primary_type'])\n",
    "print('the unique district and primary_type for 2020')\n",
    "uniq_data (dat_2020['district'])\n",
    "uniq_data (dat_2020['primary_type'])\n",
    "print('the unique district and primary_type for 2021')\n",
    "uniq_data (dat_2021['district'])\n",
    "uniq_data (dat_2021['primary_type'])\n"
   ]
  },
  {
   "cell_type": "code",
   "execution_count": 4,
   "id": "6c7a453e",
   "metadata": {},
   "outputs": [
    {
     "name": "stdout",
     "output_type": "stream",
     "text": [
      "building function to group number of crimes per district\n"
     ]
    }
   ],
   "source": [
    "#build function to get the unique of primary_type and district\n",
    "print('building function to group number of crimes per district')\n",
    "def grop_dat (df):\n",
    "    group_crim_distr= df.groupby(['district'])['primary_type'].count()\n",
    "    print(group_crim_distr)\n",
    "    print(len(group_crim_distr))\n",
    "\n"
   ]
  },
  {
   "cell_type": "code",
   "execution_count": 5,
   "id": "948069ba",
   "metadata": {
    "scrolled": false
   },
   "outputs": [
    {
     "name": "stdout",
     "output_type": "stream",
     "text": [
      "grouping number of crimes per distric in 2019\n",
      "district\n",
      "1     15285\n",
      "2     11240\n",
      "3     12490\n",
      "4     14023\n",
      "5     11355\n",
      "6     16854\n",
      "7     13718\n",
      "8     15697\n",
      "9     10985\n",
      "10    12481\n",
      "11    18680\n",
      "12    13163\n",
      "14     9276\n",
      "15    10002\n",
      "16     8305\n",
      "17     6751\n",
      "18    15158\n",
      "19    11817\n",
      "20     4373\n",
      "22     8250\n",
      "24     8004\n",
      "25    12928\n",
      "31        7\n",
      "Name: primary_type, dtype: int64\n",
      "23\n",
      "grouping number of crimes per each distric in 2020\n",
      "district\n",
      "1      8374\n",
      "2      9484\n",
      "3     10994\n",
      "4     12265\n",
      "5     10227\n",
      "6     14051\n",
      "7     11742\n",
      "8     13128\n",
      "9      9236\n",
      "10    10087\n",
      "11    15018\n",
      "12    10148\n",
      "14     6651\n",
      "15     8869\n",
      "16     7552\n",
      "17     6008\n",
      "18     8838\n",
      "19     9396\n",
      "20     4080\n",
      "22     7145\n",
      "24     6818\n",
      "25    11273\n",
      "31        4\n",
      "Name: primary_type, dtype: int64\n",
      "23\n",
      "grouping number of crimes per each distric in 2021\n",
      "district\n",
      "1      7489\n",
      "2      7917\n",
      "3      8945\n",
      "4     10504\n",
      "5      8126\n",
      "6     11436\n",
      "7      9084\n",
      "8     10715\n",
      "9      7627\n",
      "10     7699\n",
      "11    11335\n",
      "12     8921\n",
      "14     5746\n",
      "15     6762\n",
      "16     6582\n",
      "17     4706\n",
      "18     8288\n",
      "19     7951\n",
      "20     3529\n",
      "22     5860\n",
      "24     5610\n",
      "25     9016\n",
      "31       13\n",
      "Name: primary_type, dtype: int64\n",
      "23\n"
     ]
    }
   ],
   "source": [
    "# grouping primary_crime by district to finde which distric has more number of crime\n",
    "#Grouping and perform count over each group\n",
    "\n",
    "print('grouping number of crimes per distric in 2019')\n",
    "grop_dat(dat_2019)\n",
    "print('grouping number of crimes per each distric in 2020')\n",
    "grop_dat(dat_2020)\n",
    "print('grouping number of crimes per each distric in 2021')\n",
    "grop_dat(dat_2021)"
   ]
  },
  {
   "cell_type": "code",
   "execution_count": null,
   "id": "2448914a",
   "metadata": {},
   "outputs": [],
   "source": []
  }
 ],
 "metadata": {
  "kernelspec": {
   "display_name": "Python 3",
   "language": "python",
   "name": "python3"
  },
  "language_info": {
   "codemirror_mode": {
    "name": "ipython",
    "version": 3
   },
   "file_extension": ".py",
   "mimetype": "text/x-python",
   "name": "python",
   "nbconvert_exporter": "python",
   "pygments_lexer": "ipython3",
   "version": "3.9.6"
  }
 },
 "nbformat": 4,
 "nbformat_minor": 5
}
