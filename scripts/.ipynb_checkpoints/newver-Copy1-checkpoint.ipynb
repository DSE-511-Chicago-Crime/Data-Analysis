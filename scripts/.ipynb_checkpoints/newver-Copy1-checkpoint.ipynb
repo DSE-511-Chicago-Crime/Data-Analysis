{
 "cells": [
  {
   "cell_type": "code",
   "execution_count": 1,
   "id": "79a79ec1",
   "metadata": {},
   "outputs": [
    {
     "name": "stdout",
     "output_type": "stream",
     "text": [
      "import libraries Pandas  and numpy\n"
     ]
    }
   ],
   "source": [
    "print('import libraries Pandas  and numpy')\n",
    "\n",
    "import pandas as pd\n",
    "import numpy as np\n",
    "import matplotlib.pyplot as plt"
   ]
  },
  {
   "cell_type": "code",
   "execution_count": 2,
   "id": "7d85d5d8",
   "metadata": {},
   "outputs": [
    {
     "name": "stdout",
     "output_type": "stream",
     "text": [
      "download datframes for Chicago crimes as csv files  for 2016, 2017, 2018, 2019, 2020 and 2021 years\n"
     ]
    }
   ],
   "source": [
    "#Read csv file for \n",
    "print('download datframes for Chicago crimes as csv files  for 2016, 2017, 2018, 2019, 2020 and 2021 years')\n",
    "dat_2016 = pd.read_csv(\"../data/2016_crime.csv\")\n",
    "dat_2017 = pd.read_csv(\"../data/2017_crime.csv\")\n",
    "dat_2018 = pd.read_csv(\"../data/2018_crime.csv\") \n",
    "dat_2019 = pd.read_csv(\"../data/2019_crime.csv\") \n",
    "dat_2020 = pd.read_csv(\"../data/2020_crime.csv\")\n",
    "dat_2021= pd.read_csv(\"../data/2021_crime.csv\")\n",
    "# dat_2017\n",
    "# dat_2016\n",
    "# dat_2018\n",
    "# #dat_2019"
   ]
  },
  {
   "cell_type": "code",
   "execution_count": 3,
   "id": "5e402f21",
   "metadata": {},
   "outputs": [
    {
     "name": "stdout",
     "output_type": "stream",
     "text": [
      "        district                primary_type\n",
      "0              4         CRIM SEXUAL ASSAULT\n",
      "1              4                     ASSAULT\n",
      "2              8                    BURGLARY\n",
      "3              4  OFFENSE INVOLVING CHILDREN\n",
      "4              5                     BATTERY\n",
      "...          ...                         ...\n",
      "269636         3                   NARCOTICS\n",
      "269637         3                   NARCOTICS\n",
      "269638         3                   NARCOTICS\n",
      "269639         3                   NARCOTICS\n",
      "269640         3                   NARCOTICS\n",
      "\n",
      "[269641 rows x 2 columns]\n"
     ]
    }
   ],
   "source": [
    "new_data=dat_2016[['district','primary_type']]\n",
    "print(new_data)"
   ]
  },
  {
   "cell_type": "code",
   "execution_count": 4,
   "id": "224ce11f",
   "metadata": {},
   "outputs": [
    {
     "name": "stdout",
     "output_type": "stream",
     "text": [
      "building function to find out the unique district and  primary_type of crimes\n"
     ]
    }
   ],
   "source": [
    "# build function to get the unique of primary_type and district\n",
    "print('building function to find out the unique district and  primary_type of crimes')\n",
    "\n",
    "# def uniq_data (df_dat): \n",
    "#     get_uniq_data= df_dat.unique()\n",
    "    \n",
    "#     print(get_uniq_data)\n",
    "    \n",
    "# print('the unique district and primary_type for 2016')\n",
    "# uniq_district_2016 =uniq_data (dat_2016['district']) \n",
    "# uniq_primary_type_2016=uniq_data (dat_2016['primary_type'])    \n",
    "# print('the unique district and primary_type for 2017')\n",
    "# uniq_district_2017=uniq_data (dat_2017['district']) \n",
    "# uniq_primary_type_2017=uniq_data (dat_2017['primary_type']) \n",
    "# print('the unique district and primary_type for 2018')\n",
    "# uniq_district_2018=uniq_data (dat_2018['district']) \n",
    "# uniq_primary_type_2018=uniq_data (dat_2018['primary_type'])    \n",
    "# print('the unique district and primary_type for 2019')\n",
    "# uniq_district_2019=uniq_data (dat_2019['district']) \n",
    "# uniq_primary_type_2019=uniq_data (dat_2019['primary_type'])\n",
    "\n",
    "# print('the unique district and primary_type for 2020')\n",
    "# uniq_district_2020=uniq_data (dat_2020['district'])\n",
    "# uniq_primary_type_2020=uniq_data (dat_2020['primary_type'])\n",
    "# print('the unique district and primary_type for 2021')\n",
    "# uniq_district_2021=uniq_data (dat_2021['district'])\n",
    "# uniq_primary_type_2021=uniq_data (dat_2021['primary_type'])"
   ]
  },
  {
   "cell_type": "code",
   "execution_count": 5,
   "id": "23db285a",
   "metadata": {
    "scrolled": false
   },
   "outputs": [
    {
     "name": "stdout",
     "output_type": "stream",
     "text": [
      "building function to group number of crimes per district\n",
      "grouping number of crimes per distric in 2016\n",
      "grouping number of crimes per distric in 2017\n",
      "grouping number of crimes per distric in 2018\n",
      "grouping number of crimes per distric in 2019\n",
      "grouping number of crimes per each distric in 2020\n",
      "grouping number of crimes per each distric in 2021\n"
     ]
    }
   ],
   "source": [
    "#build function to group and get the unique of primary_type and district\n",
    "print('building function to group number of crimes per district')\n",
    "def grop_dat (df):\n",
    "    group_crim_distr= df.groupby(['district'])[['primary_type']].count().reset_index()\n",
    "    return group_crim_distr\n",
    "#     print(group_crim_distr)\n",
    "#     print(len(group_crim_distr))\n",
    "print('grouping number of crimes per distric in 2016')\n",
    "grouped_crim_per_dist_2016=grop_dat(dat_2016) \n",
    "print('grouping number of crimes per distric in 2017')\n",
    "grouped_crim_per_dist_2017=grop_dat(dat_2017)     \n",
    "print('grouping number of crimes per distric in 2018') \n",
    "grouped_crim_per_dist_2018=grop_dat(dat_2018)        \n",
    "print('grouping number of crimes per distric in 2019')\n",
    "grouped_crim_per_dist_2019=grop_dat(dat_2019)\n",
    "print('grouping number of crimes per each distric in 2020')\n",
    "grouped_crim_per_dist_2020=grop_dat(dat_2020)\n",
    "print('grouping number of crimes per each distric in 2021')\n",
    "grouped_crim_per_dist_2021=grop_dat(dat_2021)\n"
   ]
  },
  {
   "cell_type": "code",
   "execution_count": 6,
   "id": "df765551",
   "metadata": {},
   "outputs": [
    {
     "name": "stdout",
     "output_type": "stream",
     "text": [
      "[13738, 11453, 12349, 15017, 11637, 16211, 14225, 17548, 12675, 12587, 18646, 14081, 10339, 11428, 9474, 7785, 13226, 12258, 4405, 8629, 7356, 14559, 15]\n"
     ]
    }
   ],
   "source": [
    "print(grouped_crim_per_dist_2016['primary_type'].to_list())\n",
    "#print(grouped_crim_per_dist_2016.index.to_list())"
   ]
  },
  {
   "cell_type": "code",
   "execution_count": 7,
   "id": "4d77d6dd",
   "metadata": {},
   "outputs": [
    {
     "data": {
      "text/html": [
       "<div>\n",
       "<style scoped>\n",
       "    .dataframe tbody tr th:only-of-type {\n",
       "        vertical-align: middle;\n",
       "    }\n",
       "\n",
       "    .dataframe tbody tr th {\n",
       "        vertical-align: top;\n",
       "    }\n",
       "\n",
       "    .dataframe thead th {\n",
       "        text-align: right;\n",
       "    }\n",
       "</style>\n",
       "<table border=\"1\" class=\"dataframe\">\n",
       "  <thead>\n",
       "    <tr style=\"text-align: right;\">\n",
       "      <th></th>\n",
       "      <th>district</th>\n",
       "      <th>primary_type</th>\n",
       "    </tr>\n",
       "  </thead>\n",
       "  <tbody>\n",
       "    <tr>\n",
       "      <th>0</th>\n",
       "      <td>1</td>\n",
       "      <td>13738</td>\n",
       "    </tr>\n",
       "    <tr>\n",
       "      <th>1</th>\n",
       "      <td>2</td>\n",
       "      <td>11453</td>\n",
       "    </tr>\n",
       "    <tr>\n",
       "      <th>2</th>\n",
       "      <td>3</td>\n",
       "      <td>12349</td>\n",
       "    </tr>\n",
       "    <tr>\n",
       "      <th>3</th>\n",
       "      <td>4</td>\n",
       "      <td>15017</td>\n",
       "    </tr>\n",
       "    <tr>\n",
       "      <th>4</th>\n",
       "      <td>5</td>\n",
       "      <td>11637</td>\n",
       "    </tr>\n",
       "    <tr>\n",
       "      <th>5</th>\n",
       "      <td>6</td>\n",
       "      <td>16211</td>\n",
       "    </tr>\n",
       "    <tr>\n",
       "      <th>6</th>\n",
       "      <td>7</td>\n",
       "      <td>14225</td>\n",
       "    </tr>\n",
       "    <tr>\n",
       "      <th>7</th>\n",
       "      <td>8</td>\n",
       "      <td>17548</td>\n",
       "    </tr>\n",
       "    <tr>\n",
       "      <th>8</th>\n",
       "      <td>9</td>\n",
       "      <td>12675</td>\n",
       "    </tr>\n",
       "    <tr>\n",
       "      <th>9</th>\n",
       "      <td>10</td>\n",
       "      <td>12587</td>\n",
       "    </tr>\n",
       "    <tr>\n",
       "      <th>10</th>\n",
       "      <td>11</td>\n",
       "      <td>18646</td>\n",
       "    </tr>\n",
       "    <tr>\n",
       "      <th>11</th>\n",
       "      <td>12</td>\n",
       "      <td>14081</td>\n",
       "    </tr>\n",
       "    <tr>\n",
       "      <th>12</th>\n",
       "      <td>14</td>\n",
       "      <td>10339</td>\n",
       "    </tr>\n",
       "    <tr>\n",
       "      <th>13</th>\n",
       "      <td>15</td>\n",
       "      <td>11428</td>\n",
       "    </tr>\n",
       "    <tr>\n",
       "      <th>14</th>\n",
       "      <td>16</td>\n",
       "      <td>9474</td>\n",
       "    </tr>\n",
       "    <tr>\n",
       "      <th>15</th>\n",
       "      <td>17</td>\n",
       "      <td>7785</td>\n",
       "    </tr>\n",
       "    <tr>\n",
       "      <th>16</th>\n",
       "      <td>18</td>\n",
       "      <td>13226</td>\n",
       "    </tr>\n",
       "    <tr>\n",
       "      <th>17</th>\n",
       "      <td>19</td>\n",
       "      <td>12258</td>\n",
       "    </tr>\n",
       "    <tr>\n",
       "      <th>18</th>\n",
       "      <td>20</td>\n",
       "      <td>4405</td>\n",
       "    </tr>\n",
       "    <tr>\n",
       "      <th>19</th>\n",
       "      <td>22</td>\n",
       "      <td>8629</td>\n",
       "    </tr>\n",
       "    <tr>\n",
       "      <th>20</th>\n",
       "      <td>24</td>\n",
       "      <td>7356</td>\n",
       "    </tr>\n",
       "    <tr>\n",
       "      <th>21</th>\n",
       "      <td>25</td>\n",
       "      <td>14559</td>\n",
       "    </tr>\n",
       "    <tr>\n",
       "      <th>22</th>\n",
       "      <td>31</td>\n",
       "      <td>15</td>\n",
       "    </tr>\n",
       "  </tbody>\n",
       "</table>\n",
       "</div>"
      ],
      "text/plain": [
       "    district  primary_type\n",
       "0          1         13738\n",
       "1          2         11453\n",
       "2          3         12349\n",
       "3          4         15017\n",
       "4          5         11637\n",
       "5          6         16211\n",
       "6          7         14225\n",
       "7          8         17548\n",
       "8          9         12675\n",
       "9         10         12587\n",
       "10        11         18646\n",
       "11        12         14081\n",
       "12        14         10339\n",
       "13        15         11428\n",
       "14        16          9474\n",
       "15        17          7785\n",
       "16        18         13226\n",
       "17        19         12258\n",
       "18        20          4405\n",
       "19        22          8629\n",
       "20        24          7356\n",
       "21        25         14559\n",
       "22        31            15"
      ]
     },
     "execution_count": 7,
     "metadata": {},
     "output_type": "execute_result"
    }
   ],
   "source": [
    "grouped_crim_per_dist_2016"
   ]
  },
  {
   "cell_type": "code",
   "execution_count": 18,
   "id": "0e32e561",
   "metadata": {},
   "outputs": [],
   "source": [
    "#initializing data for plotting the three years,2016,2017, and 2018 befor covid for primary_type of crime per district\n",
    "\n",
    "\n",
    "# Year 2016\n",
    "districts_2016=grouped_crim_per_dist_2016['district'].to_list()\n",
    "y1=np.array(grouped_crim_per_dist_2016['primary_type'])\n",
    "x1=np.arange(len(y1))\n",
    "# year 2017\n",
    "districts_2017=grouped_crim_per_dist_2017['district'].to_list()\n",
    "y2=np.array(grouped_crim_per_dist_2017['primary_type'])\n",
    "x2=np.arange(int(len(y2)))\n",
    "# Year 2018\n",
    "districts_2018=grouped_crim_per_dist_2018['district'].to_list()\n",
    "y3=np.array(grouped_crim_per_dist_2018['primary_type'])\n",
    "x3=np.arange(len(y3))"
   ]
  },
  {
   "cell_type": "code",
   "execution_count": 32,
   "id": "5ba21027",
   "metadata": {},
   "outputs": [
    {
     "data": {
      "image/png": "[encoded data removed]",
      "text/plain": [
       "<Figure size 1200x300 with 3 Axes>"
      ]
     },
     "metadata": {},
     "output_type": "display_data"
    }
   ],
   "source": [
    "## visualizing  the top five USA states in incident rate\n",
    "##(x1,y1) label for data of Year 2016, (x2,y2) label  for data of Year 2017, (x3,y3) label  for data of Year 2018\n",
    "plt.figure(figsize=(12,3))\n",
    "\n",
    "width = 0.2\n",
    "# primar_type  numbers of crimes per distric for year 2016 Plot\n",
    "plt.subplot(1,3,1)\n",
    "plt.bar(x1,y1)\n",
    "plt.ylabel(' Number of primary_type of Crimes for per distict')\n",
    "plt.xticks(x1,districts_2016,rotation=-80)\n",
    "plt.xlabel('primar_type numbers of\\n crimes per distric for Year 2016')\n",
    "# primar_type  numbers of crimes per distric for year 2017 Plot\n",
    "plt.subplot(1,3,2)\n",
    "plt.bar(x1,y1)\n",
    "#plt.ylabel(' Number of primary_type of Crimes for per distict')\n",
    "plt.xticks(x2,districts_2017,rotation=-80)\n",
    "plt.xlabel('primar_type numbers of\\n crimes per distric for Year 2017')\n",
    "# primar_type  numbers of crimes per distric for year 2018 Plot\n",
    "plt.subplot(1,3,3)\n",
    "plt.bar(x3,y3)\n",
    "#plt.ylabel(' Number of primary_type of Crimes for per distict')\n",
    "plt.xticks(x3,districts_2018,rotation=-85)\n",
    "plt.xlabel('primar_type numbers of\\n crimes per distric for Year 2018')\n",
    "plt.suptitle('The primar_type of Crimes Per Distric of Chicago State USA\\n for Years Before Covid-19: 2016, 2017, 2018 reports')\n",
    "plt.show()"
   ]
  },
  {
   "cell_type": "code",
   "execution_count": null,
   "id": "79bbbd96",
   "metadata": {},
   "outputs": [],
   "source": [
    "## visualizing  the top five USA states in incident rate\n",
    "##(x1,y1) label for before Chris, (x2,y2) label during Chris, (x3,y3) label for after Chis\n",
    "\n",
    "plt.figure(figsize=(8,4))\n",
    "# before Christmas plot\n",
    "plt.subplot(1,3,1)\n",
    "plt.bar(x1,y1)\n",
    "plt.ylabel('Incident Rate for COIVD 19 per 100k person')\n",
    "plt.xticks(x1,top_5_states_incidentrate_bef_chrs,rotation=-60)\n",
    "plt.xlabel('7-days before Chrismats')\n",
    "# during Chritmas plot\n",
    "plt.subplot(1,3,2)\n",
    "plt.bar(x2,y2)\n",
    "plt.xticks(x2,top_5_states_incidentrate_chrs,rotation=-60)\n",
    "plt.xlabel('During Chrismats')\n",
    "plt.yticks(visible=False)\n",
    "# after Christmase plot\n",
    "plt.subplot(1,3,3)\n",
    "plt.bar(x3,y3)\n",
    "plt.xticks(x3,top_5_states_incidentrate_aft_chrs,rotation=-60)\n",
    "plt.xlabel('7-days after Chrismats')\n",
    "plt.yticks(visible=False)\n",
    "plt.suptitle('The top 5 US states in incident rate \\n 12-18-2020, 12-25-2020, 01-01-2021 reports')\n",
    "plt.show()"
   ]
  },
  {
   "cell_type": "code",
   "execution_count": null,
   "id": "90be5e93",
   "metadata": {},
   "outputs": [],
   "source": []
  },
  {
   "cell_type": "code",
   "execution_count": null,
   "id": "0beb7f78",
   "metadata": {},
   "outputs": [],
   "source": []
  },
  {
   "cell_type": "code",
   "execution_count": null,
   "id": "05f04eba",
   "metadata": {},
   "outputs": [],
   "source": []
  },
  {
   "cell_type": "code",
   "execution_count": null,
   "id": "95c6779c",
   "metadata": {},
   "outputs": [],
   "source": []
  },
  {
   "cell_type": "code",
   "execution_count": null,
   "id": "6bb84308",
   "metadata": {},
   "outputs": [],
   "source": []
  },
  {
   "cell_type": "code",
   "execution_count": null,
   "id": "a8061123",
   "metadata": {},
   "outputs": [],
   "source": []
  },
  {
   "cell_type": "code",
   "execution_count": null,
   "id": "4b174c0a",
   "metadata": {},
   "outputs": [],
   "source": []
  },
  {
   "cell_type": "code",
   "execution_count": null,
   "id": "e0870382",
   "metadata": {},
   "outputs": [],
   "source": []
  },
  {
   "cell_type": "code",
   "execution_count": null,
   "id": "e55785ce",
   "metadata": {},
   "outputs": [],
   "source": []
  },
  {
   "cell_type": "code",
   "execution_count": null,
   "id": "ca1464ae",
   "metadata": {},
   "outputs": [],
   "source": []
  }
 ],
 "metadata": {
  "kernelspec": {
   "display_name": "Python 3",
   "language": "python",
   "name": "python3"
  },
  "language_info": {
   "codemirror_mode": {
    "name": "ipython",
    "version": 3
   },
   "file_extension": ".py",
   "mimetype": "text/x-python",
   "name": "python",
   "nbconvert_exporter": "python",
   "pygments_lexer": "ipython3",
   "version": "3.9.6"
  }
 },
 "nbformat": 4,
 "nbformat_minor": 5
}
