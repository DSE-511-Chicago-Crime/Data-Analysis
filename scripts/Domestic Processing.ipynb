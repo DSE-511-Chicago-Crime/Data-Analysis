{
 "cells": [
  {
   "cell_type": "code",
   "execution_count": 1,
   "id": "427de427",
   "metadata": {},
   "outputs": [
    {
     "name": "stdout",
     "output_type": "stream",
     "text": [
      "/Users/hollandhysmith/Documents\n"
     ]
    }
   ],
   "source": [
    "#Importing packages necessary for pre-processing.\n",
    "import os\n",
    "import pandas as pd\n",
    "from csv import reader\n",
    "import matplotlib.pyplot as plt\n",
    "import numpy as np\n",
    "import csv\n",
    "\n",
    "#Printing data directory where data is located.\n",
    "directory = os.getcwd()\n",
    "print(directory)"
   ]
  },
  {
   "cell_type": "code",
   "execution_count": 2,
   "id": "d9178352",
   "metadata": {},
   "outputs": [
    {
     "data": {
      "text/html": [
       "<div>\n",
       "<style scoped>\n",
       "    .dataframe tbody tr th:only-of-type {\n",
       "        vertical-align: middle;\n",
       "    }\n",
       "\n",
       "    .dataframe tbody tr th {\n",
       "        vertical-align: top;\n",
       "    }\n",
       "\n",
       "    .dataframe thead th {\n",
       "        text-align: right;\n",
       "    }\n",
       "</style>\n",
       "<table border=\"1\" class=\"dataframe\">\n",
       "  <thead>\n",
       "    <tr style=\"text-align: right;\">\n",
       "      <th></th>\n",
       "      <th>Unnamed: 0</th>\n",
       "      <th>unique_key</th>\n",
       "      <th>date</th>\n",
       "      <th>block</th>\n",
       "      <th>iucr</th>\n",
       "      <th>primary_type</th>\n",
       "      <th>description</th>\n",
       "      <th>location_description</th>\n",
       "      <th>arrest</th>\n",
       "      <th>domestic</th>\n",
       "      <th>fbi_code</th>\n",
       "      <th>year</th>\n",
       "      <th>district</th>\n",
       "    </tr>\n",
       "  </thead>\n",
       "  <tbody>\n",
       "    <tr>\n",
       "      <th>0</th>\n",
       "      <td>0</td>\n",
       "      <td>11559377</td>\n",
       "      <td>2019-01-07 13:54:00+00:00</td>\n",
       "      <td>113XX S FORRESTVILLE AVE</td>\n",
       "      <td>0520</td>\n",
       "      <td>ASSAULT</td>\n",
       "      <td>AGGRAVATED:KNIFE/CUTTING INSTR</td>\n",
       "      <td>SCHOOL, PUBLIC, BUILDING</td>\n",
       "      <td>True</td>\n",
       "      <td>False</td>\n",
       "      <td>04A</td>\n",
       "      <td>2019</td>\n",
       "      <td>5</td>\n",
       "    </tr>\n",
       "    <tr>\n",
       "      <th>1</th>\n",
       "      <td>1</td>\n",
       "      <td>11869349</td>\n",
       "      <td>2019-10-22 13:30:00+00:00</td>\n",
       "      <td>099XX S AVENUE M</td>\n",
       "      <td>0530</td>\n",
       "      <td>ASSAULT</td>\n",
       "      <td>AGGRAVATED: OTHER DANG WEAPON</td>\n",
       "      <td>STREET</td>\n",
       "      <td>False</td>\n",
       "      <td>True</td>\n",
       "      <td>04A</td>\n",
       "      <td>2019</td>\n",
       "      <td>4</td>\n",
       "    </tr>\n",
       "    <tr>\n",
       "      <th>2</th>\n",
       "      <td>2</td>\n",
       "      <td>11592195</td>\n",
       "      <td>2019-02-11 05:20:00+00:00</td>\n",
       "      <td>051XX S WENTWORTH AVE</td>\n",
       "      <td>0484</td>\n",
       "      <td>BATTERY</td>\n",
       "      <td>PRO EMP HANDS NO/MIN INJURY</td>\n",
       "      <td>JAIL / LOCK-UP FACILITY</td>\n",
       "      <td>True</td>\n",
       "      <td>False</td>\n",
       "      <td>08B</td>\n",
       "      <td>2019</td>\n",
       "      <td>2</td>\n",
       "    </tr>\n",
       "    <tr>\n",
       "      <th>3</th>\n",
       "      <td>3</td>\n",
       "      <td>11600810</td>\n",
       "      <td>2019-02-19 06:00:00+00:00</td>\n",
       "      <td>049XX S KOLIN AVE</td>\n",
       "      <td>1305</td>\n",
       "      <td>CRIMINAL DAMAGE</td>\n",
       "      <td>CRIMINAL DEFACEMENT</td>\n",
       "      <td>RESIDENCE-GARAGE</td>\n",
       "      <td>False</td>\n",
       "      <td>False</td>\n",
       "      <td>14</td>\n",
       "      <td>2019</td>\n",
       "      <td>8</td>\n",
       "    </tr>\n",
       "    <tr>\n",
       "      <th>4</th>\n",
       "      <td>4</td>\n",
       "      <td>11615489</td>\n",
       "      <td>2019-03-06 05:30:00+00:00</td>\n",
       "      <td>079XX S KENWOOD AVE</td>\n",
       "      <td>1755</td>\n",
       "      <td>OFFENSE INVOLVING CHILDREN</td>\n",
       "      <td>CHILD ABANDONMENT</td>\n",
       "      <td>RESIDENCE</td>\n",
       "      <td>False</td>\n",
       "      <td>True</td>\n",
       "      <td>20</td>\n",
       "      <td>2019</td>\n",
       "      <td>4</td>\n",
       "    </tr>\n",
       "  </tbody>\n",
       "</table>\n",
       "</div>"
      ],
      "text/plain": [
       "   Unnamed: 0  unique_key                       date  \\\n",
       "0           0    11559377  2019-01-07 13:54:00+00:00   \n",
       "1           1    11869349  2019-10-22 13:30:00+00:00   \n",
       "2           2    11592195  2019-02-11 05:20:00+00:00   \n",
       "3           3    11600810  2019-02-19 06:00:00+00:00   \n",
       "4           4    11615489  2019-03-06 05:30:00+00:00   \n",
       "\n",
       "                      block  iucr                primary_type  \\\n",
       "0  113XX S FORRESTVILLE AVE  0520                     ASSAULT   \n",
       "1          099XX S AVENUE M  0530                     ASSAULT   \n",
       "2     051XX S WENTWORTH AVE  0484                     BATTERY   \n",
       "3         049XX S KOLIN AVE  1305             CRIMINAL DAMAGE   \n",
       "4       079XX S KENWOOD AVE  1755  OFFENSE INVOLVING CHILDREN   \n",
       "\n",
       "                      description      location_description  arrest  domestic  \\\n",
       "0  AGGRAVATED:KNIFE/CUTTING INSTR  SCHOOL, PUBLIC, BUILDING    True     False   \n",
       "1   AGGRAVATED: OTHER DANG WEAPON                    STREET   False      True   \n",
       "2     PRO EMP HANDS NO/MIN INJURY   JAIL / LOCK-UP FACILITY    True     False   \n",
       "3             CRIMINAL DEFACEMENT          RESIDENCE-GARAGE   False     False   \n",
       "4               CHILD ABANDONMENT                 RESIDENCE   False      True   \n",
       "\n",
       "  fbi_code  year  district  \n",
       "0      04A  2019         5  \n",
       "1      04A  2019         4  \n",
       "2      08B  2019         2  \n",
       "3       14  2019         8  \n",
       "4       20  2019         4  "
      ]
     },
     "execution_count": 2,
     "metadata": {},
     "output_type": "execute_result"
    }
   ],
   "source": [
    "#Identifing path of data file, opening in a \"read-only\" format to visualize the data.\n",
    "path = directory + '/GitHub/Data-Analysis/data/2019_crime.csv'\n",
    "data = pd.read_csv(path)\n",
    "data.head()"
   ]
  },
  {
   "cell_type": "code",
   "execution_count": 3,
   "id": "5ea4b4c3",
   "metadata": {},
   "outputs": [
    {
     "name": "stdout",
     "output_type": "stream",
     "text": [
      "Date: 2019-10-22 13:30:00+00:00\n",
      "Arrest: False\n",
      "Domestic: True\n"
     ]
    }
   ],
   "source": [
    "#Open the file in read mode\n",
    "filename = open(directory + '/GitHub/Data-Analysis/data/2019_crime.csv', 'r')\n",
    " \n",
    "#Creating dictreader object\n",
    "file = csv.DictReader(filename)\n",
    " \n",
    "#Creating empty lists\n",
    "date = []\n",
    "arrest = []\n",
    "domestic = []\n",
    " \n",
    "#Iterating over each row and append\n",
    "#values to empty list\n",
    "for col in file:\n",
    "    date.append(col['date'])\n",
    "    arrest.append(col['arrest'])\n",
    "    domestic.append(col['domestic'])\n",
    " \n",
    "print('Date:', date[1])\n",
    "print('Arrest:', arrest[1])\n",
    "print('Domestic:', domestic[1])"
   ]
  },
  {
   "cell_type": "code",
   "execution_count": 4,
   "id": "0c8e0472",
   "metadata": {},
   "outputs": [],
   "source": [
    "#Organizing lists into dictionaries\n",
    "arrest_dates = dict(zip(date, arrest))\n",
    "domestic_dates = dict(zip(date,domestic))"
   ]
  },
  {
   "cell_type": "code",
   "execution_count": 5,
   "id": "329325f5",
   "metadata": {},
   "outputs": [],
   "source": [
    "#Converting dictionaries into arrays\n",
    "array_date = np.array(date)\n",
    "array_domestic = np.array(domestic)\n",
    "array_arrest = np.array(arrest)"
   ]
  },
  {
   "cell_type": "code",
   "execution_count": 6,
   "id": "d7de954e",
   "metadata": {},
   "outputs": [
    {
     "data": {
      "text/plain": [
       "array(['2019-01-07 13:54:00+00:00', '2019-10-22 13:30:00+00:00',\n",
       "       '2019-02-11 05:20:00+00:00', ..., '2019-10-18 07:45:00+00:00',\n",
       "       '2019-01-06 20:00:00+00:00', '2019-08-19 10:00:00+00:00'],\n",
       "      dtype='<U25')"
      ]
     },
     "execution_count": 6,
     "metadata": {},
     "output_type": "execute_result"
    }
   ],
   "source": [
    "array_date"
   ]
  },
  {
   "cell_type": "code",
   "execution_count": 7,
   "id": "71db1ef5",
   "metadata": {},
   "outputs": [],
   "source": [
    "#Reshaping arrays into 2D\n",
    "shape_date = np.reshape(array_date,(2,130421))\n",
    "shape_domestic = np.reshape(array_domestic,(2,130421))\n",
    "shape_arrest = np.reshape(array_arrest,(2,130421))"
   ]
  },
  {
   "cell_type": "code",
   "execution_count": 8,
   "id": "a4ebd4df",
   "metadata": {},
   "outputs": [
    {
     "data": {
      "text/html": [
       "<div>\n",
       "<style scoped>\n",
       "    .dataframe tbody tr th:only-of-type {\n",
       "        vertical-align: middle;\n",
       "    }\n",
       "\n",
       "    .dataframe tbody tr th {\n",
       "        vertical-align: top;\n",
       "    }\n",
       "\n",
       "    .dataframe thead th {\n",
       "        text-align: right;\n",
       "    }\n",
       "</style>\n",
       "<table border=\"1\" class=\"dataframe\">\n",
       "  <thead>\n",
       "    <tr style=\"text-align: right;\">\n",
       "      <th></th>\n",
       "      <th>0</th>\n",
       "    </tr>\n",
       "  </thead>\n",
       "  <tbody>\n",
       "    <tr>\n",
       "      <th>2019-01-07 13:54:00+00:00</th>\n",
       "      <td>False</td>\n",
       "    </tr>\n",
       "    <tr>\n",
       "      <th>2019-10-22 13:30:00+00:00</th>\n",
       "      <td>True</td>\n",
       "    </tr>\n",
       "    <tr>\n",
       "      <th>2019-02-11 05:20:00+00:00</th>\n",
       "      <td>False</td>\n",
       "    </tr>\n",
       "    <tr>\n",
       "      <th>2019-02-19 06:00:00+00:00</th>\n",
       "      <td>False</td>\n",
       "    </tr>\n",
       "    <tr>\n",
       "      <th>2019-03-06 05:30:00+00:00</th>\n",
       "      <td>True</td>\n",
       "    </tr>\n",
       "    <tr>\n",
       "      <th>...</th>\n",
       "      <td>...</td>\n",
       "    </tr>\n",
       "    <tr>\n",
       "      <th>2019-01-11 08:00:00+00:00</th>\n",
       "      <td>True</td>\n",
       "    </tr>\n",
       "    <tr>\n",
       "      <th>2019-10-12 12:11:00+00:00</th>\n",
       "      <td>False</td>\n",
       "    </tr>\n",
       "    <tr>\n",
       "      <th>2019-10-18 07:45:00+00:00</th>\n",
       "      <td>False</td>\n",
       "    </tr>\n",
       "    <tr>\n",
       "      <th>2019-01-06 20:00:00+00:00</th>\n",
       "      <td>False</td>\n",
       "    </tr>\n",
       "    <tr>\n",
       "      <th>2019-08-19 10:00:00+00:00</th>\n",
       "      <td>False</td>\n",
       "    </tr>\n",
       "  </tbody>\n",
       "</table>\n",
       "<p>260842 rows × 1 columns</p>\n",
       "</div>"
      ],
      "text/plain": [
       "                               0\n",
       "2019-01-07 13:54:00+00:00  False\n",
       "2019-10-22 13:30:00+00:00   True\n",
       "2019-02-11 05:20:00+00:00  False\n",
       "2019-02-19 06:00:00+00:00  False\n",
       "2019-03-06 05:30:00+00:00   True\n",
       "...                          ...\n",
       "2019-01-11 08:00:00+00:00   True\n",
       "2019-10-12 12:11:00+00:00  False\n",
       "2019-10-18 07:45:00+00:00  False\n",
       "2019-01-06 20:00:00+00:00  False\n",
       "2019-08-19 10:00:00+00:00  False\n",
       "\n",
       "[260842 rows x 1 columns]"
      ]
     },
     "execution_count": 8,
     "metadata": {},
     "output_type": "execute_result"
    }
   ],
   "source": [
    "pd.DataFrame(domestic,date)"
   ]
  },
  {
   "cell_type": "code",
   "execution_count": 12,
   "id": "dafd2126",
   "metadata": {},
   "outputs": [],
   "source": [
    "#Currently working - replace True/False with 0/1 for plotting\n",
    "#x = domestic.replace(\"True\", 1)"
   ]
  }
 ],
 "metadata": {
  "kernelspec": {
   "display_name": "Python 3",
   "language": "python",
   "name": "python3"
  },
  "language_info": {
   "codemirror_mode": {
    "name": "ipython",
    "version": 3
   },
   "file_extension": ".py",
   "mimetype": "text/x-python",
   "name": "python",
   "nbconvert_exporter": "python",
   "pygments_lexer": "ipython3",
   "version": "3.9.6"
  }
 },
 "nbformat": 4,
 "nbformat_minor": 5
}
